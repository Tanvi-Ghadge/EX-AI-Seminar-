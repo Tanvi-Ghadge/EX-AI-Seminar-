{
 "cells": [
  {
   "cell_type": "code",
   "execution_count": null,
   "metadata": {
    "colab": {
     "base_uri": "https://localhost:8080/"
    },
    "id": "4mW_J4Yl0pFp",
    "outputId": "792891ac-5fe8-42c4-e9c6-6381ffd99008"
   },
   "outputs": [],
   "source": [
    "!pip install -q datasets transformers[torch] accelerate evaluate shap sentencepiece\n"
   ]
  },
  {
   "cell_type": "code",
   "execution_count": null,
   "metadata": {
    "colab": {
     "base_uri": "https://localhost:8080/",
     "height": 205,
     "referenced_widgets": [
      "af46d5d1ebd34ce3ae8151f7070388ac",
      "685d713588ae4bb1866eeb38cb7fd31d",
      "f3cfb2d9dff64fbd85dedf79ad9871a8",
      "13630103327f4238abcc742f87ae8fd5",
      "ebbc48460b874f3b836d72ec0926bf11",
      "0bec9876ac1e4384b9ad793278b79fff",
      "4e758a7385424e40b27049ba5f3d75b9",
      "1a5579c437684779bc47346b6ec24359",
      "fb512a9ab2444f048c24e716428c1ba5",
      "959d5cd89b224e7b8da6c20b946dfb08",
      "e6d26af79be748f982f94c61b1b0806e",
      "7fc4811e578645a491838e4703be8556",
      "0021bcba311149c385310bc93907a8da",
      "820e93882cfe408d96e2642196466fb5",
      "ab299a3abe004088a383c2972306ed35",
      "eeb58ba1bfeb4ec8bb953e2409331c24",
      "7d7097b8812a4f32b2f7188a2668a39a",
      "c7b02b0505a441b4a124d87a3518f9f4",
      "2c852d828c2548ee8da5cb04cc4316fe",
      "2a6bc848e36c452292ce93f18b39ab17",
      "b3481b2b7a0f4b7095a59134a89e1ee8",
      "0a22fedeafa44fc6ae495fbf23203733"
     ]
    },
    "id": "uxmq2s0Ec-8D",
    "outputId": "7297d9b4-74ce-4da7-c3e4-29092d69b10b"
   },
   "outputs": [],
   "source": [
    "from datasets import load_dataset\n",
    "\n",
    "# Login using e.g. `huggingface-cli login` to access this dataset\n",
    "ds = load_dataset(\"iNeil77/CodeNet\", \"C++\")\n",
    "print(ds)"
   ]
  },
  {
   "cell_type": "code",
   "execution_count": null,
   "metadata": {
    "colab": {
     "base_uri": "https://localhost:8080/",
     "height": 66,
     "referenced_widgets": [
      "f9d6397f1e244ce8b69ffa8bf5a3dcb6",
      "eeeaa82a049f43188f2f14b56ec03b59",
      "ff7ab51b5e1f4841a5b40348d8f8fba8",
      "b823464255284b0785e75da09efd2062",
      "f7f06208e4704dd49b3ba128f206d70b",
      "b4eb021a0e604d01ad367afded686b5d",
      "6406176c6e0c471d9da78b0f5d3a8457",
      "a7767a1e2ab74424b943a50d27d6da46",
      "4bef6e8387444655b0198af6d15f2585",
      "acaeefcfbee64702be1d7fcba6549db2",
      "546514c682b2418789366706595a4ab3"
     ]
    },
    "id": "R4WaLonWdXMo",
    "outputId": "88b42661-6be0-462e-8c93-e8415f0a1bce"
   },
   "outputs": [],
   "source": [
    "from collections import Counter\n",
    "\n",
    "# Define a simple function to assign labels\n",
    "def add_labels(example):\n",
    "    # 0 if status is \"Accepted\", else 1\n",
    "    example[\"bug_label\"] = 0 if example[\"status\"] == \"Accepted\" else 1\n",
    "    return example\n",
    "\n",
    "# Apply the function only to the \"train\" split\n",
    "ds[\"train\"] = ds[\"train\"].map(add_labels)\n",
    "\n",
    "# Check the distribution of 'bug_label'\n",
    "print(\"Bug label distribution:\", Counter(ds[\"train\"][\"bug_label\"]))\n"
   ]
  }
 ],
 "metadata": {
  "accelerator": "GPU",
  "colab": {
   "gpuType": "T4",
   "provenance": []
  },
  "kernelspec": {
   "display_name": "Python 3",
   "name": "python3"
  },
  "language_info": {
   "name": "python"
  }
 },
 "nbformat": 4,
 "nbformat_minor": 0
}
